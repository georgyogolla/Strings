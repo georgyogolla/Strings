{
 "cells": [
  {
   "cell_type": "markdown",
   "id": "9a2e773c",
   "metadata": {},
   "source": [
    "#### formatting how strings display on the screen"
   ]
  },
  {
   "cell_type": "code",
   "execution_count": 1,
   "id": "379f1f60",
   "metadata": {},
   "outputs": [],
   "source": [
    "import math\n",
    "pi = math.pi"
   ]
  },
  {
   "cell_type": "code",
   "execution_count": 2,
   "id": "d6723224",
   "metadata": {},
   "outputs": [
    {
     "data": {
      "text/plain": [
       "3.141592653589793"
      ]
     },
     "execution_count": 2,
     "metadata": {},
     "output_type": "execute_result"
    }
   ],
   "source": [
    "pi"
   ]
  },
  {
   "cell_type": "code",
   "execution_count": 5,
   "id": "f4f051ca",
   "metadata": {},
   "outputs": [
    {
     "data": {
      "text/plain": [
       "'pi is equal to 3.141592653589793'"
      ]
     },
     "execution_count": 5,
     "metadata": {},
     "output_type": "execute_result"
    }
   ],
   "source": [
    "f'pi is equal to {pi}'"
   ]
  },
  {
   "cell_type": "code",
   "execution_count": 7,
   "id": "c63e3af2",
   "metadata": {},
   "outputs": [
    {
     "data": {
      "text/plain": [
       "'pi is equal to 3.142'"
      ]
     },
     "execution_count": 7,
     "metadata": {},
     "output_type": "execute_result"
    }
   ],
   "source": [
    "f'pi is equal to {pi:.3f}' # displays string to 3 decimal places. 'f' in .3f is float and .3 is the number of ecimal places to display"
   ]
  },
  {
   "cell_type": "code",
   "execution_count": 17,
   "id": "6e21da9f",
   "metadata": {},
   "outputs": [
    {
     "data": {
      "text/plain": [
       "'pi is equal to        3.142'"
      ]
     },
     "execution_count": 17,
     "metadata": {},
     "output_type": "execute_result"
    }
   ],
   "source": [
    "f'pi is equal to {pi:12.3f}' # gives a pading of 12"
   ]
  },
  {
   "cell_type": "code",
   "execution_count": 18,
   "id": "3d86b31e",
   "metadata": {},
   "outputs": [
    {
     "data": {
      "text/plain": [
       "'pi is equal to 00000003.142'"
      ]
     },
     "execution_count": 18,
     "metadata": {},
     "output_type": "execute_result"
    }
   ],
   "source": [
    "f'pi is equal to {pi:012.3f}' # gives a padding of 12 with leading zeros"
   ]
  },
  {
   "cell_type": "code",
   "execution_count": 19,
   "id": "aba69592",
   "metadata": {},
   "outputs": [
    {
     "data": {
      "text/plain": [
       "'pi is equal to +3.142'"
      ]
     },
     "execution_count": 19,
     "metadata": {},
     "output_type": "execute_result"
    }
   ],
   "source": [
    "f'pi is equal to {pi:+.3f}' #displays a positive sign infront of pi"
   ]
  },
  {
   "cell_type": "code",
   "execution_count": 13,
   "id": "32c1ffeb",
   "metadata": {},
   "outputs": [
    {
     "data": {
      "text/plain": [
       "'pi is equal to 3.142'"
      ]
     },
     "execution_count": 13,
     "metadata": {},
     "output_type": "execute_result"
    }
   ],
   "source": [
    "f'pi is equal to {pi:.3f}'"
   ]
  },
  {
   "cell_type": "code",
   "execution_count": 20,
   "id": "3559e06d",
   "metadata": {},
   "outputs": [
    {
     "data": {
      "text/plain": [
       "'pi is equal to      3.142'"
      ]
     },
     "execution_count": 20,
     "metadata": {},
     "output_type": "execute_result"
    }
   ],
   "source": [
    "f'pi is equal to {pi:10.3f}'# gives a padding of 10"
   ]
  },
  {
   "cell_type": "code",
   "execution_count": 21,
   "id": "7bb72e3b",
   "metadata": {},
   "outputs": [
    {
     "data": {
      "text/plain": [
       "'pi is equal to 3.142     '"
      ]
     },
     "execution_count": 21,
     "metadata": {},
     "output_type": "execute_result"
    }
   ],
   "source": [
    "f'pi is equal to {pi:<10.3f}' #align the string to the left but gives padding of 10 to the right"
   ]
  },
  {
   "cell_type": "code",
   "execution_count": 23,
   "id": "df636c80",
   "metadata": {},
   "outputs": [
    {
     "data": {
      "text/plain": [
       "'pi is equal to   3.142   '"
      ]
     },
     "execution_count": 23,
     "metadata": {},
     "output_type": "execute_result"
    }
   ],
   "source": [
    "f'pi is equal to {pi:^10.3f}' # center alignement"
   ]
  },
  {
   "cell_type": "code",
   "execution_count": 26,
   "id": "d7cb8f47",
   "metadata": {},
   "outputs": [
    {
     "data": {
      "text/plain": [
       "'pi is equal to +    3.142'"
      ]
     },
     "execution_count": 26,
     "metadata": {},
     "output_type": "execute_result"
    }
   ],
   "source": [
    "f'pi is equal to {pi:=+10.3f}' # displays the sign and a padding of 10"
   ]
  },
  {
   "cell_type": "code",
   "execution_count": null,
   "id": "3bf03347",
   "metadata": {},
   "outputs": [],
   "source": []
  }
 ],
 "metadata": {
  "kernelspec": {
   "display_name": "Python 3 (ipykernel)",
   "language": "python",
   "name": "python3"
  },
  "language_info": {
   "codemirror_mode": {
    "name": "ipython",
    "version": 3
   },
   "file_extension": ".py",
   "mimetype": "text/x-python",
   "name": "python",
   "nbconvert_exporter": "python",
   "pygments_lexer": "ipython3",
   "version": "3.9.7"
  }
 },
 "nbformat": 4,
 "nbformat_minor": 5
}
